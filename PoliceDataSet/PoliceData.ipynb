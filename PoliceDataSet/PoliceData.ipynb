{
 "cells": [
  {
   "cell_type": "markdown",
   "metadata": {},
   "source": [
    "Importing numpy and Pandas package"
   ]
  },
  {
   "cell_type": "code",
   "execution_count": 1,
   "metadata": {},
   "outputs": [],
   "source": [
    "import numpy as np\n",
    "import pandas as pd"
   ]
  },
  {
   "cell_type": "markdown",
   "metadata": {},
   "source": [
    "Reading CSV and making DataFrame as policedf"
   ]
  },
  {
   "cell_type": "code",
   "execution_count": 2,
   "metadata": {},
   "outputs": [],
   "source": [
    "policedf = pd.read_csv('PoliceData.csv') "
   ]
  },
  {
   "cell_type": "markdown",
   "metadata": {},
   "source": [
    "Checking top 5 records in dataframe using head() function"
   ]
  },
  {
   "cell_type": "code",
   "execution_count": 3,
   "metadata": {},
   "outputs": [
    {
     "data": {
      "text/html": [
       "<div>\n",
       "<style scoped>\n",
       "    .dataframe tbody tr th:only-of-type {\n",
       "        vertical-align: middle;\n",
       "    }\n",
       "\n",
       "    .dataframe tbody tr th {\n",
       "        vertical-align: top;\n",
       "    }\n",
       "\n",
       "    .dataframe thead th {\n",
       "        text-align: right;\n",
       "    }\n",
       "</style>\n",
       "<table border=\"1\" class=\"dataframe\">\n",
       "  <thead>\n",
       "    <tr style=\"text-align: right;\">\n",
       "      <th></th>\n",
       "      <th>stop_date</th>\n",
       "      <th>stop_time</th>\n",
       "      <th>country_name</th>\n",
       "      <th>driver_gender</th>\n",
       "      <th>driver_age_raw</th>\n",
       "      <th>driver_age</th>\n",
       "      <th>driver_race</th>\n",
       "      <th>violation_raw</th>\n",
       "      <th>violation</th>\n",
       "      <th>search_conducted</th>\n",
       "      <th>search_type</th>\n",
       "      <th>stop_outcome</th>\n",
       "      <th>is_arrested</th>\n",
       "      <th>stop_duration</th>\n",
       "      <th>drugs_related_stop</th>\n",
       "    </tr>\n",
       "  </thead>\n",
       "  <tbody>\n",
       "    <tr>\n",
       "      <th>0</th>\n",
       "      <td>1/2/2005</td>\n",
       "      <td>1:55</td>\n",
       "      <td>NaN</td>\n",
       "      <td>M</td>\n",
       "      <td>1985.0</td>\n",
       "      <td>20.0</td>\n",
       "      <td>White</td>\n",
       "      <td>Speeding</td>\n",
       "      <td>Speeding</td>\n",
       "      <td>False</td>\n",
       "      <td>NaN</td>\n",
       "      <td>Citation</td>\n",
       "      <td>False</td>\n",
       "      <td>0-15 Min</td>\n",
       "      <td>False</td>\n",
       "    </tr>\n",
       "    <tr>\n",
       "      <th>1</th>\n",
       "      <td>1/18/2005</td>\n",
       "      <td>8:15</td>\n",
       "      <td>NaN</td>\n",
       "      <td>M</td>\n",
       "      <td>1965.0</td>\n",
       "      <td>40.0</td>\n",
       "      <td>White</td>\n",
       "      <td>Speeding</td>\n",
       "      <td>Speeding</td>\n",
       "      <td>False</td>\n",
       "      <td>NaN</td>\n",
       "      <td>Citation</td>\n",
       "      <td>False</td>\n",
       "      <td>0-15 Min</td>\n",
       "      <td>False</td>\n",
       "    </tr>\n",
       "    <tr>\n",
       "      <th>2</th>\n",
       "      <td>1/23/2005</td>\n",
       "      <td>23:15</td>\n",
       "      <td>NaN</td>\n",
       "      <td>M</td>\n",
       "      <td>1972.0</td>\n",
       "      <td>33.0</td>\n",
       "      <td>White</td>\n",
       "      <td>Speeding</td>\n",
       "      <td>Speeding</td>\n",
       "      <td>False</td>\n",
       "      <td>NaN</td>\n",
       "      <td>Citation</td>\n",
       "      <td>False</td>\n",
       "      <td>0-15 Min</td>\n",
       "      <td>False</td>\n",
       "    </tr>\n",
       "    <tr>\n",
       "      <th>3</th>\n",
       "      <td>2/20/2005</td>\n",
       "      <td>17:15</td>\n",
       "      <td>NaN</td>\n",
       "      <td>M</td>\n",
       "      <td>1986.0</td>\n",
       "      <td>19.0</td>\n",
       "      <td>White</td>\n",
       "      <td>Call for Service</td>\n",
       "      <td>Other</td>\n",
       "      <td>False</td>\n",
       "      <td>NaN</td>\n",
       "      <td>Arrest Driver</td>\n",
       "      <td>True</td>\n",
       "      <td>16-30 Min</td>\n",
       "      <td>False</td>\n",
       "    </tr>\n",
       "    <tr>\n",
       "      <th>4</th>\n",
       "      <td>3/14/2005</td>\n",
       "      <td>10:00</td>\n",
       "      <td>NaN</td>\n",
       "      <td>F</td>\n",
       "      <td>1984.0</td>\n",
       "      <td>21.0</td>\n",
       "      <td>White</td>\n",
       "      <td>Speeding</td>\n",
       "      <td>Speeding</td>\n",
       "      <td>False</td>\n",
       "      <td>NaN</td>\n",
       "      <td>Citation</td>\n",
       "      <td>False</td>\n",
       "      <td>0-15 Min</td>\n",
       "      <td>False</td>\n",
       "    </tr>\n",
       "  </tbody>\n",
       "</table>\n",
       "</div>"
      ],
      "text/plain": [
       "   stop_date stop_time  country_name driver_gender  driver_age_raw  \\\n",
       "0   1/2/2005      1:55           NaN             M          1985.0   \n",
       "1  1/18/2005      8:15           NaN             M          1965.0   \n",
       "2  1/23/2005     23:15           NaN             M          1972.0   \n",
       "3  2/20/2005     17:15           NaN             M          1986.0   \n",
       "4  3/14/2005     10:00           NaN             F          1984.0   \n",
       "\n",
       "   driver_age driver_race     violation_raw violation  search_conducted  \\\n",
       "0        20.0       White          Speeding  Speeding             False   \n",
       "1        40.0       White          Speeding  Speeding             False   \n",
       "2        33.0       White          Speeding  Speeding             False   \n",
       "3        19.0       White  Call for Service     Other             False   \n",
       "4        21.0       White          Speeding  Speeding             False   \n",
       "\n",
       "  search_type   stop_outcome is_arrested stop_duration  drugs_related_stop  \n",
       "0         NaN       Citation       False      0-15 Min               False  \n",
       "1         NaN       Citation       False      0-15 Min               False  \n",
       "2         NaN       Citation       False      0-15 Min               False  \n",
       "3         NaN  Arrest Driver        True     16-30 Min               False  \n",
       "4         NaN       Citation       False      0-15 Min               False  "
      ]
     },
     "execution_count": 3,
     "metadata": {},
     "output_type": "execute_result"
    }
   ],
   "source": [
    "policedf.head()"
   ]
  },
  {
   "cell_type": "markdown",
   "metadata": {},
   "source": [
    "Checking shape of the data frame. Means Rows and Columns"
   ]
  },
  {
   "cell_type": "code",
   "execution_count": 4,
   "metadata": {},
   "outputs": [
    {
     "data": {
      "text/plain": [
       "(65535, 15)"
      ]
     },
     "execution_count": 4,
     "metadata": {},
     "output_type": "execute_result"
    }
   ],
   "source": [
    "policedf.shape"
   ]
  },
  {
   "cell_type": "markdown",
   "metadata": {},
   "source": [
    "Setting Pandas option to view all columns in our Jupyter Notebook"
   ]
  },
  {
   "cell_type": "code",
   "execution_count": 5,
   "metadata": {},
   "outputs": [],
   "source": [
    "pd.set_option('display.max_columns', 15)"
   ]
  },
  {
   "cell_type": "markdown",
   "metadata": {},
   "source": [
    "Getting information on each column using info() function"
   ]
  },
  {
   "cell_type": "code",
   "execution_count": 6,
   "metadata": {},
   "outputs": [
    {
     "name": "stdout",
     "output_type": "stream",
     "text": [
      "<class 'pandas.core.frame.DataFrame'>\n",
      "RangeIndex: 65535 entries, 0 to 65534\n",
      "Data columns (total 15 columns):\n",
      "stop_date             65535 non-null object\n",
      "stop_time             65535 non-null object\n",
      "country_name          0 non-null float64\n",
      "driver_gender         61474 non-null object\n",
      "driver_age_raw        61481 non-null float64\n",
      "driver_age            61228 non-null float64\n",
      "driver_race           61475 non-null object\n",
      "violation_raw         61475 non-null object\n",
      "violation             61475 non-null object\n",
      "search_conducted      65535 non-null bool\n",
      "search_type           2479 non-null object\n",
      "stop_outcome          61475 non-null object\n",
      "is_arrested           61475 non-null object\n",
      "stop_duration         61475 non-null object\n",
      "drugs_related_stop    65535 non-null bool\n",
      "dtypes: bool(2), float64(3), object(10)\n",
      "memory usage: 6.6+ MB\n"
     ]
    }
   ],
   "source": [
    "policedf.info()"
   ]
  },
  {
   "cell_type": "markdown",
   "metadata": {},
   "source": [
    "Using describe function to get more detailed info on our Dataset"
   ]
  },
  {
   "cell_type": "code",
   "execution_count": 7,
   "metadata": {},
   "outputs": [
    {
     "data": {
      "text/html": [
       "<div>\n",
       "<style scoped>\n",
       "    .dataframe tbody tr th:only-of-type {\n",
       "        vertical-align: middle;\n",
       "    }\n",
       "\n",
       "    .dataframe tbody tr th {\n",
       "        vertical-align: top;\n",
       "    }\n",
       "\n",
       "    .dataframe thead th {\n",
       "        text-align: right;\n",
       "    }\n",
       "</style>\n",
       "<table border=\"1\" class=\"dataframe\">\n",
       "  <thead>\n",
       "    <tr style=\"text-align: right;\">\n",
       "      <th></th>\n",
       "      <th>stop_date</th>\n",
       "      <th>stop_time</th>\n",
       "      <th>country_name</th>\n",
       "      <th>driver_gender</th>\n",
       "      <th>driver_age_raw</th>\n",
       "      <th>driver_age</th>\n",
       "      <th>driver_race</th>\n",
       "      <th>violation_raw</th>\n",
       "      <th>violation</th>\n",
       "      <th>search_conducted</th>\n",
       "      <th>search_type</th>\n",
       "      <th>stop_outcome</th>\n",
       "      <th>is_arrested</th>\n",
       "      <th>stop_duration</th>\n",
       "      <th>drugs_related_stop</th>\n",
       "    </tr>\n",
       "  </thead>\n",
       "  <tbody>\n",
       "    <tr>\n",
       "      <th>count</th>\n",
       "      <td>65535</td>\n",
       "      <td>65535</td>\n",
       "      <td>0.0</td>\n",
       "      <td>61474</td>\n",
       "      <td>61481.000000</td>\n",
       "      <td>61228.000000</td>\n",
       "      <td>61475</td>\n",
       "      <td>61475</td>\n",
       "      <td>61475</td>\n",
       "      <td>65535</td>\n",
       "      <td>2479</td>\n",
       "      <td>61475</td>\n",
       "      <td>61475</td>\n",
       "      <td>61475</td>\n",
       "      <td>65535</td>\n",
       "    </tr>\n",
       "    <tr>\n",
       "      <th>unique</th>\n",
       "      <td>2651</td>\n",
       "      <td>1432</td>\n",
       "      <td>NaN</td>\n",
       "      <td>2</td>\n",
       "      <td>NaN</td>\n",
       "      <td>NaN</td>\n",
       "      <td>5</td>\n",
       "      <td>12</td>\n",
       "      <td>6</td>\n",
       "      <td>2</td>\n",
       "      <td>23</td>\n",
       "      <td>6</td>\n",
       "      <td>2</td>\n",
       "      <td>4</td>\n",
       "      <td>2</td>\n",
       "    </tr>\n",
       "    <tr>\n",
       "      <th>top</th>\n",
       "      <td>1/11/2012</td>\n",
       "      <td>10:00</td>\n",
       "      <td>NaN</td>\n",
       "      <td>M</td>\n",
       "      <td>NaN</td>\n",
       "      <td>NaN</td>\n",
       "      <td>White</td>\n",
       "      <td>Speeding</td>\n",
       "      <td>Speeding</td>\n",
       "      <td>False</td>\n",
       "      <td>Incident to Arrest</td>\n",
       "      <td>Citation</td>\n",
       "      <td>False</td>\n",
       "      <td>0-15 Min</td>\n",
       "      <td>False</td>\n",
       "    </tr>\n",
       "    <tr>\n",
       "      <th>freq</th>\n",
       "      <td>69</td>\n",
       "      <td>280</td>\n",
       "      <td>NaN</td>\n",
       "      <td>45164</td>\n",
       "      <td>NaN</td>\n",
       "      <td>NaN</td>\n",
       "      <td>45747</td>\n",
       "      <td>37204</td>\n",
       "      <td>37204</td>\n",
       "      <td>63056</td>\n",
       "      <td>1074</td>\n",
       "      <td>56564</td>\n",
       "      <td>59215</td>\n",
       "      <td>47379</td>\n",
       "      <td>65017</td>\n",
       "    </tr>\n",
       "    <tr>\n",
       "      <th>mean</th>\n",
       "      <td>NaN</td>\n",
       "      <td>NaN</td>\n",
       "      <td>NaN</td>\n",
       "      <td>NaN</td>\n",
       "      <td>1967.791106</td>\n",
       "      <td>34.148984</td>\n",
       "      <td>NaN</td>\n",
       "      <td>NaN</td>\n",
       "      <td>NaN</td>\n",
       "      <td>NaN</td>\n",
       "      <td>NaN</td>\n",
       "      <td>NaN</td>\n",
       "      <td>NaN</td>\n",
       "      <td>NaN</td>\n",
       "      <td>NaN</td>\n",
       "    </tr>\n",
       "    <tr>\n",
       "      <th>std</th>\n",
       "      <td>NaN</td>\n",
       "      <td>NaN</td>\n",
       "      <td>NaN</td>\n",
       "      <td>NaN</td>\n",
       "      <td>121.050106</td>\n",
       "      <td>12.760710</td>\n",
       "      <td>NaN</td>\n",
       "      <td>NaN</td>\n",
       "      <td>NaN</td>\n",
       "      <td>NaN</td>\n",
       "      <td>NaN</td>\n",
       "      <td>NaN</td>\n",
       "      <td>NaN</td>\n",
       "      <td>NaN</td>\n",
       "      <td>NaN</td>\n",
       "    </tr>\n",
       "    <tr>\n",
       "      <th>min</th>\n",
       "      <td>NaN</td>\n",
       "      <td>NaN</td>\n",
       "      <td>NaN</td>\n",
       "      <td>NaN</td>\n",
       "      <td>0.000000</td>\n",
       "      <td>15.000000</td>\n",
       "      <td>NaN</td>\n",
       "      <td>NaN</td>\n",
       "      <td>NaN</td>\n",
       "      <td>NaN</td>\n",
       "      <td>NaN</td>\n",
       "      <td>NaN</td>\n",
       "      <td>NaN</td>\n",
       "      <td>NaN</td>\n",
       "      <td>NaN</td>\n",
       "    </tr>\n",
       "    <tr>\n",
       "      <th>25%</th>\n",
       "      <td>NaN</td>\n",
       "      <td>NaN</td>\n",
       "      <td>NaN</td>\n",
       "      <td>NaN</td>\n",
       "      <td>1965.000000</td>\n",
       "      <td>23.000000</td>\n",
       "      <td>NaN</td>\n",
       "      <td>NaN</td>\n",
       "      <td>NaN</td>\n",
       "      <td>NaN</td>\n",
       "      <td>NaN</td>\n",
       "      <td>NaN</td>\n",
       "      <td>NaN</td>\n",
       "      <td>NaN</td>\n",
       "      <td>NaN</td>\n",
       "    </tr>\n",
       "    <tr>\n",
       "      <th>50%</th>\n",
       "      <td>NaN</td>\n",
       "      <td>NaN</td>\n",
       "      <td>NaN</td>\n",
       "      <td>NaN</td>\n",
       "      <td>1978.000000</td>\n",
       "      <td>31.000000</td>\n",
       "      <td>NaN</td>\n",
       "      <td>NaN</td>\n",
       "      <td>NaN</td>\n",
       "      <td>NaN</td>\n",
       "      <td>NaN</td>\n",
       "      <td>NaN</td>\n",
       "      <td>NaN</td>\n",
       "      <td>NaN</td>\n",
       "      <td>NaN</td>\n",
       "    </tr>\n",
       "    <tr>\n",
       "      <th>75%</th>\n",
       "      <td>NaN</td>\n",
       "      <td>NaN</td>\n",
       "      <td>NaN</td>\n",
       "      <td>NaN</td>\n",
       "      <td>1985.000000</td>\n",
       "      <td>43.000000</td>\n",
       "      <td>NaN</td>\n",
       "      <td>NaN</td>\n",
       "      <td>NaN</td>\n",
       "      <td>NaN</td>\n",
       "      <td>NaN</td>\n",
       "      <td>NaN</td>\n",
       "      <td>NaN</td>\n",
       "      <td>NaN</td>\n",
       "      <td>NaN</td>\n",
       "    </tr>\n",
       "    <tr>\n",
       "      <th>max</th>\n",
       "      <td>NaN</td>\n",
       "      <td>NaN</td>\n",
       "      <td>NaN</td>\n",
       "      <td>NaN</td>\n",
       "      <td>8801.000000</td>\n",
       "      <td>88.000000</td>\n",
       "      <td>NaN</td>\n",
       "      <td>NaN</td>\n",
       "      <td>NaN</td>\n",
       "      <td>NaN</td>\n",
       "      <td>NaN</td>\n",
       "      <td>NaN</td>\n",
       "      <td>NaN</td>\n",
       "      <td>NaN</td>\n",
       "      <td>NaN</td>\n",
       "    </tr>\n",
       "  </tbody>\n",
       "</table>\n",
       "</div>"
      ],
      "text/plain": [
       "        stop_date stop_time  country_name driver_gender  driver_age_raw  \\\n",
       "count       65535     65535           0.0         61474    61481.000000   \n",
       "unique       2651      1432           NaN             2             NaN   \n",
       "top     1/11/2012     10:00           NaN             M             NaN   \n",
       "freq           69       280           NaN         45164             NaN   \n",
       "mean          NaN       NaN           NaN           NaN     1967.791106   \n",
       "std           NaN       NaN           NaN           NaN      121.050106   \n",
       "min           NaN       NaN           NaN           NaN        0.000000   \n",
       "25%           NaN       NaN           NaN           NaN     1965.000000   \n",
       "50%           NaN       NaN           NaN           NaN     1978.000000   \n",
       "75%           NaN       NaN           NaN           NaN     1985.000000   \n",
       "max           NaN       NaN           NaN           NaN     8801.000000   \n",
       "\n",
       "          driver_age driver_race violation_raw violation search_conducted  \\\n",
       "count   61228.000000       61475         61475     61475            65535   \n",
       "unique           NaN           5            12         6                2   \n",
       "top              NaN       White      Speeding  Speeding            False   \n",
       "freq             NaN       45747         37204     37204            63056   \n",
       "mean       34.148984         NaN           NaN       NaN              NaN   \n",
       "std        12.760710         NaN           NaN       NaN              NaN   \n",
       "min        15.000000         NaN           NaN       NaN              NaN   \n",
       "25%        23.000000         NaN           NaN       NaN              NaN   \n",
       "50%        31.000000         NaN           NaN       NaN              NaN   \n",
       "75%        43.000000         NaN           NaN       NaN              NaN   \n",
       "max        88.000000         NaN           NaN       NaN              NaN   \n",
       "\n",
       "               search_type stop_outcome is_arrested stop_duration  \\\n",
       "count                 2479        61475       61475         61475   \n",
       "unique                  23            6           2             4   \n",
       "top     Incident to Arrest     Citation       False      0-15 Min   \n",
       "freq                  1074        56564       59215         47379   \n",
       "mean                   NaN          NaN         NaN           NaN   \n",
       "std                    NaN          NaN         NaN           NaN   \n",
       "min                    NaN          NaN         NaN           NaN   \n",
       "25%                    NaN          NaN         NaN           NaN   \n",
       "50%                    NaN          NaN         NaN           NaN   \n",
       "75%                    NaN          NaN         NaN           NaN   \n",
       "max                    NaN          NaN         NaN           NaN   \n",
       "\n",
       "       drugs_related_stop  \n",
       "count               65535  \n",
       "unique                  2  \n",
       "top                 False  \n",
       "freq                65017  \n",
       "mean                  NaN  \n",
       "std                   NaN  \n",
       "min                   NaN  \n",
       "25%                   NaN  \n",
       "50%                   NaN  \n",
       "75%                   NaN  \n",
       "max                   NaN  "
      ]
     },
     "execution_count": 7,
     "metadata": {},
     "output_type": "execute_result"
    }
   ],
   "source": [
    "policedf.describe(include='all')"
   ]
  },
  {
   "cell_type": "markdown",
   "metadata": {},
   "source": [
    "Checking the columns in dataframe using columns attribute"
   ]
  },
  {
   "cell_type": "code",
   "execution_count": 8,
   "metadata": {},
   "outputs": [
    {
     "data": {
      "text/plain": [
       "Index(['stop_date', 'stop_time', 'country_name', 'driver_gender',\n",
       "       'driver_age_raw', 'driver_age', 'driver_race', 'violation_raw',\n",
       "       'violation', 'search_conducted', 'search_type', 'stop_outcome',\n",
       "       'is_arrested', 'stop_duration', 'drugs_related_stop'],\n",
       "      dtype='object')"
      ]
     },
     "execution_count": 8,
     "metadata": {},
     "output_type": "execute_result"
    }
   ],
   "source": [
    "policedf.columns"
   ]
  },
  {
   "cell_type": "markdown",
   "metadata": {},
   "source": [
    "counting the number rows null in each column"
   ]
  },
  {
   "cell_type": "code",
   "execution_count": 9,
   "metadata": {},
   "outputs": [
    {
     "data": {
      "text/plain": [
       "stop_date                 0\n",
       "stop_time                 0\n",
       "country_name          65535\n",
       "driver_gender          4061\n",
       "driver_age_raw         4054\n",
       "driver_age             4307\n",
       "driver_race            4060\n",
       "violation_raw          4060\n",
       "violation              4060\n",
       "search_conducted          0\n",
       "search_type           63056\n",
       "stop_outcome           4060\n",
       "is_arrested            4060\n",
       "stop_duration          4060\n",
       "drugs_related_stop        0\n",
       "dtype: int64"
      ]
     },
     "execution_count": 9,
     "metadata": {},
     "output_type": "execute_result"
    }
   ],
   "source": [
    "policedf.isnull().sum()"
   ]
  },
  {
   "cell_type": "markdown",
   "metadata": {},
   "source": [
    "As we can see from above details that\n",
    "columns 'country_name' and 'search_type' does have maximum values as null\n",
    "hench we will drop those columns"
   ]
  },
  {
   "cell_type": "code",
   "execution_count": 10,
   "metadata": {},
   "outputs": [],
   "source": [
    "policedf.drop(['country_name', 'search_type'], axis=1, inplace=True)"
   ]
  },
  {
   "cell_type": "code",
   "execution_count": 11,
   "metadata": {},
   "outputs": [
    {
     "data": {
      "text/html": [
       "<div>\n",
       "<style scoped>\n",
       "    .dataframe tbody tr th:only-of-type {\n",
       "        vertical-align: middle;\n",
       "    }\n",
       "\n",
       "    .dataframe tbody tr th {\n",
       "        vertical-align: top;\n",
       "    }\n",
       "\n",
       "    .dataframe thead th {\n",
       "        text-align: right;\n",
       "    }\n",
       "</style>\n",
       "<table border=\"1\" class=\"dataframe\">\n",
       "  <thead>\n",
       "    <tr style=\"text-align: right;\">\n",
       "      <th></th>\n",
       "      <th>stop_date</th>\n",
       "      <th>stop_time</th>\n",
       "      <th>driver_gender</th>\n",
       "      <th>driver_age_raw</th>\n",
       "      <th>driver_age</th>\n",
       "      <th>driver_race</th>\n",
       "      <th>violation_raw</th>\n",
       "      <th>violation</th>\n",
       "      <th>search_conducted</th>\n",
       "      <th>stop_outcome</th>\n",
       "      <th>is_arrested</th>\n",
       "      <th>stop_duration</th>\n",
       "      <th>drugs_related_stop</th>\n",
       "    </tr>\n",
       "  </thead>\n",
       "  <tbody>\n",
       "    <tr>\n",
       "      <th>0</th>\n",
       "      <td>1/2/2005</td>\n",
       "      <td>1:55</td>\n",
       "      <td>M</td>\n",
       "      <td>1985.0</td>\n",
       "      <td>20.0</td>\n",
       "      <td>White</td>\n",
       "      <td>Speeding</td>\n",
       "      <td>Speeding</td>\n",
       "      <td>False</td>\n",
       "      <td>Citation</td>\n",
       "      <td>False</td>\n",
       "      <td>0-15 Min</td>\n",
       "      <td>False</td>\n",
       "    </tr>\n",
       "    <tr>\n",
       "      <th>1</th>\n",
       "      <td>1/18/2005</td>\n",
       "      <td>8:15</td>\n",
       "      <td>M</td>\n",
       "      <td>1965.0</td>\n",
       "      <td>40.0</td>\n",
       "      <td>White</td>\n",
       "      <td>Speeding</td>\n",
       "      <td>Speeding</td>\n",
       "      <td>False</td>\n",
       "      <td>Citation</td>\n",
       "      <td>False</td>\n",
       "      <td>0-15 Min</td>\n",
       "      <td>False</td>\n",
       "    </tr>\n",
       "    <tr>\n",
       "      <th>2</th>\n",
       "      <td>1/23/2005</td>\n",
       "      <td>23:15</td>\n",
       "      <td>M</td>\n",
       "      <td>1972.0</td>\n",
       "      <td>33.0</td>\n",
       "      <td>White</td>\n",
       "      <td>Speeding</td>\n",
       "      <td>Speeding</td>\n",
       "      <td>False</td>\n",
       "      <td>Citation</td>\n",
       "      <td>False</td>\n",
       "      <td>0-15 Min</td>\n",
       "      <td>False</td>\n",
       "    </tr>\n",
       "    <tr>\n",
       "      <th>3</th>\n",
       "      <td>2/20/2005</td>\n",
       "      <td>17:15</td>\n",
       "      <td>M</td>\n",
       "      <td>1986.0</td>\n",
       "      <td>19.0</td>\n",
       "      <td>White</td>\n",
       "      <td>Call for Service</td>\n",
       "      <td>Other</td>\n",
       "      <td>False</td>\n",
       "      <td>Arrest Driver</td>\n",
       "      <td>True</td>\n",
       "      <td>16-30 Min</td>\n",
       "      <td>False</td>\n",
       "    </tr>\n",
       "    <tr>\n",
       "      <th>4</th>\n",
       "      <td>3/14/2005</td>\n",
       "      <td>10:00</td>\n",
       "      <td>F</td>\n",
       "      <td>1984.0</td>\n",
       "      <td>21.0</td>\n",
       "      <td>White</td>\n",
       "      <td>Speeding</td>\n",
       "      <td>Speeding</td>\n",
       "      <td>False</td>\n",
       "      <td>Citation</td>\n",
       "      <td>False</td>\n",
       "      <td>0-15 Min</td>\n",
       "      <td>False</td>\n",
       "    </tr>\n",
       "    <tr>\n",
       "      <th>5</th>\n",
       "      <td>3/23/2005</td>\n",
       "      <td>9:45</td>\n",
       "      <td>M</td>\n",
       "      <td>1982.0</td>\n",
       "      <td>23.0</td>\n",
       "      <td>Black</td>\n",
       "      <td>Equipment/Inspection Violation</td>\n",
       "      <td>Equipment</td>\n",
       "      <td>False</td>\n",
       "      <td>Citation</td>\n",
       "      <td>False</td>\n",
       "      <td>0-15 Min</td>\n",
       "      <td>False</td>\n",
       "    </tr>\n",
       "    <tr>\n",
       "      <th>6</th>\n",
       "      <td>4/1/2005</td>\n",
       "      <td>17:30</td>\n",
       "      <td>M</td>\n",
       "      <td>1969.0</td>\n",
       "      <td>36.0</td>\n",
       "      <td>White</td>\n",
       "      <td>Speeding</td>\n",
       "      <td>Speeding</td>\n",
       "      <td>False</td>\n",
       "      <td>Citation</td>\n",
       "      <td>False</td>\n",
       "      <td>0-15 Min</td>\n",
       "      <td>False</td>\n",
       "    </tr>\n",
       "    <tr>\n",
       "      <th>7</th>\n",
       "      <td>6/6/2005</td>\n",
       "      <td>13:20</td>\n",
       "      <td>F</td>\n",
       "      <td>1986.0</td>\n",
       "      <td>19.0</td>\n",
       "      <td>White</td>\n",
       "      <td>Speeding</td>\n",
       "      <td>Speeding</td>\n",
       "      <td>False</td>\n",
       "      <td>Citation</td>\n",
       "      <td>False</td>\n",
       "      <td>0-15 Min</td>\n",
       "      <td>False</td>\n",
       "    </tr>\n",
       "    <tr>\n",
       "      <th>8</th>\n",
       "      <td>7/13/2005</td>\n",
       "      <td>10:15</td>\n",
       "      <td>M</td>\n",
       "      <td>1970.0</td>\n",
       "      <td>35.0</td>\n",
       "      <td>Black</td>\n",
       "      <td>Speeding</td>\n",
       "      <td>Speeding</td>\n",
       "      <td>False</td>\n",
       "      <td>Citation</td>\n",
       "      <td>False</td>\n",
       "      <td>0-15 Min</td>\n",
       "      <td>False</td>\n",
       "    </tr>\n",
       "    <tr>\n",
       "      <th>9</th>\n",
       "      <td>7/13/2005</td>\n",
       "      <td>15:45</td>\n",
       "      <td>M</td>\n",
       "      <td>1970.0</td>\n",
       "      <td>35.0</td>\n",
       "      <td>White</td>\n",
       "      <td>Speeding</td>\n",
       "      <td>Speeding</td>\n",
       "      <td>False</td>\n",
       "      <td>Citation</td>\n",
       "      <td>False</td>\n",
       "      <td>0-15 Min</td>\n",
       "      <td>False</td>\n",
       "    </tr>\n",
       "    <tr>\n",
       "      <th>10</th>\n",
       "      <td>7/13/2005</td>\n",
       "      <td>16:20</td>\n",
       "      <td>M</td>\n",
       "      <td>1979.0</td>\n",
       "      <td>26.0</td>\n",
       "      <td>Asian</td>\n",
       "      <td>Speeding</td>\n",
       "      <td>Speeding</td>\n",
       "      <td>False</td>\n",
       "      <td>Citation</td>\n",
       "      <td>False</td>\n",
       "      <td>0-15 Min</td>\n",
       "      <td>False</td>\n",
       "    </tr>\n",
       "    <tr>\n",
       "      <th>11</th>\n",
       "      <td>7/13/2005</td>\n",
       "      <td>19:00</td>\n",
       "      <td>F</td>\n",
       "      <td>1966.0</td>\n",
       "      <td>39.0</td>\n",
       "      <td>White</td>\n",
       "      <td>Speeding</td>\n",
       "      <td>Speeding</td>\n",
       "      <td>False</td>\n",
       "      <td>Citation</td>\n",
       "      <td>False</td>\n",
       "      <td>0-15 Min</td>\n",
       "      <td>False</td>\n",
       "    </tr>\n",
       "    <tr>\n",
       "      <th>12</th>\n",
       "      <td>7/14/2005</td>\n",
       "      <td>19:55</td>\n",
       "      <td>M</td>\n",
       "      <td>1979.0</td>\n",
       "      <td>26.0</td>\n",
       "      <td>White</td>\n",
       "      <td>Speeding</td>\n",
       "      <td>Speeding</td>\n",
       "      <td>False</td>\n",
       "      <td>Citation</td>\n",
       "      <td>False</td>\n",
       "      <td>0-15 Min</td>\n",
       "      <td>False</td>\n",
       "    </tr>\n",
       "    <tr>\n",
       "      <th>13</th>\n",
       "      <td>7/18/2005</td>\n",
       "      <td>19:30</td>\n",
       "      <td>F</td>\n",
       "      <td>1984.0</td>\n",
       "      <td>21.0</td>\n",
       "      <td>White</td>\n",
       "      <td>Speeding</td>\n",
       "      <td>Speeding</td>\n",
       "      <td>False</td>\n",
       "      <td>Citation</td>\n",
       "      <td>False</td>\n",
       "      <td>0-15 Min</td>\n",
       "      <td>False</td>\n",
       "    </tr>\n",
       "    <tr>\n",
       "      <th>14</th>\n",
       "      <td>7/18/2005</td>\n",
       "      <td>19:45</td>\n",
       "      <td>M</td>\n",
       "      <td>1969.0</td>\n",
       "      <td>36.0</td>\n",
       "      <td>White</td>\n",
       "      <td>Speeding</td>\n",
       "      <td>Speeding</td>\n",
       "      <td>False</td>\n",
       "      <td>Citation</td>\n",
       "      <td>False</td>\n",
       "      <td>0-15 Min</td>\n",
       "      <td>False</td>\n",
       "    </tr>\n",
       "    <tr>\n",
       "      <th>15</th>\n",
       "      <td>7/19/2005</td>\n",
       "      <td>0:30</td>\n",
       "      <td>M</td>\n",
       "      <td>1982.0</td>\n",
       "      <td>23.0</td>\n",
       "      <td>White</td>\n",
       "      <td>Speeding</td>\n",
       "      <td>Speeding</td>\n",
       "      <td>False</td>\n",
       "      <td>Citation</td>\n",
       "      <td>False</td>\n",
       "      <td>0-15 Min</td>\n",
       "      <td>False</td>\n",
       "    </tr>\n",
       "    <tr>\n",
       "      <th>16</th>\n",
       "      <td>7/19/2005</td>\n",
       "      <td>0:30</td>\n",
       "      <td>M</td>\n",
       "      <td>1982.0</td>\n",
       "      <td>23.0</td>\n",
       "      <td>White</td>\n",
       "      <td>Speeding</td>\n",
       "      <td>Speeding</td>\n",
       "      <td>False</td>\n",
       "      <td>Citation</td>\n",
       "      <td>False</td>\n",
       "      <td>0-15 Min</td>\n",
       "      <td>False</td>\n",
       "    </tr>\n",
       "    <tr>\n",
       "      <th>17</th>\n",
       "      <td>7/19/2005</td>\n",
       "      <td>23:30</td>\n",
       "      <td>M</td>\n",
       "      <td>1979.0</td>\n",
       "      <td>26.0</td>\n",
       "      <td>White</td>\n",
       "      <td>Equipment/Inspection Violation</td>\n",
       "      <td>Equipment</td>\n",
       "      <td>False</td>\n",
       "      <td>Citation</td>\n",
       "      <td>False</td>\n",
       "      <td>0-15 Min</td>\n",
       "      <td>False</td>\n",
       "    </tr>\n",
       "    <tr>\n",
       "      <th>18</th>\n",
       "      <td>7/20/2005</td>\n",
       "      <td>0:05</td>\n",
       "      <td>M</td>\n",
       "      <td>1955.0</td>\n",
       "      <td>50.0</td>\n",
       "      <td>White</td>\n",
       "      <td>Speeding</td>\n",
       "      <td>Speeding</td>\n",
       "      <td>False</td>\n",
       "      <td>Citation</td>\n",
       "      <td>False</td>\n",
       "      <td>0-15 Min</td>\n",
       "      <td>False</td>\n",
       "    </tr>\n",
       "    <tr>\n",
       "      <th>19</th>\n",
       "      <td>7/24/2005</td>\n",
       "      <td>20:10</td>\n",
       "      <td>F</td>\n",
       "      <td>1958.0</td>\n",
       "      <td>47.0</td>\n",
       "      <td>White</td>\n",
       "      <td>Speeding</td>\n",
       "      <td>Speeding</td>\n",
       "      <td>False</td>\n",
       "      <td>Citation</td>\n",
       "      <td>False</td>\n",
       "      <td>0-15 Min</td>\n",
       "      <td>False</td>\n",
       "    </tr>\n",
       "  </tbody>\n",
       "</table>\n",
       "</div>"
      ],
      "text/plain": [
       "    stop_date stop_time driver_gender  driver_age_raw  driver_age driver_race  \\\n",
       "0    1/2/2005      1:55             M          1985.0        20.0       White   \n",
       "1   1/18/2005      8:15             M          1965.0        40.0       White   \n",
       "2   1/23/2005     23:15             M          1972.0        33.0       White   \n",
       "3   2/20/2005     17:15             M          1986.0        19.0       White   \n",
       "4   3/14/2005     10:00             F          1984.0        21.0       White   \n",
       "5   3/23/2005      9:45             M          1982.0        23.0       Black   \n",
       "6    4/1/2005     17:30             M          1969.0        36.0       White   \n",
       "7    6/6/2005     13:20             F          1986.0        19.0       White   \n",
       "8   7/13/2005     10:15             M          1970.0        35.0       Black   \n",
       "9   7/13/2005     15:45             M          1970.0        35.0       White   \n",
       "10  7/13/2005     16:20             M          1979.0        26.0       Asian   \n",
       "11  7/13/2005     19:00             F          1966.0        39.0       White   \n",
       "12  7/14/2005     19:55             M          1979.0        26.0       White   \n",
       "13  7/18/2005     19:30             F          1984.0        21.0       White   \n",
       "14  7/18/2005     19:45             M          1969.0        36.0       White   \n",
       "15  7/19/2005      0:30             M          1982.0        23.0       White   \n",
       "16  7/19/2005      0:30             M          1982.0        23.0       White   \n",
       "17  7/19/2005     23:30             M          1979.0        26.0       White   \n",
       "18  7/20/2005      0:05             M          1955.0        50.0       White   \n",
       "19  7/24/2005     20:10             F          1958.0        47.0       White   \n",
       "\n",
       "                     violation_raw  violation  search_conducted  \\\n",
       "0                         Speeding   Speeding             False   \n",
       "1                         Speeding   Speeding             False   \n",
       "2                         Speeding   Speeding             False   \n",
       "3                 Call for Service      Other             False   \n",
       "4                         Speeding   Speeding             False   \n",
       "5   Equipment/Inspection Violation  Equipment             False   \n",
       "6                         Speeding   Speeding             False   \n",
       "7                         Speeding   Speeding             False   \n",
       "8                         Speeding   Speeding             False   \n",
       "9                         Speeding   Speeding             False   \n",
       "10                        Speeding   Speeding             False   \n",
       "11                        Speeding   Speeding             False   \n",
       "12                        Speeding   Speeding             False   \n",
       "13                        Speeding   Speeding             False   \n",
       "14                        Speeding   Speeding             False   \n",
       "15                        Speeding   Speeding             False   \n",
       "16                        Speeding   Speeding             False   \n",
       "17  Equipment/Inspection Violation  Equipment             False   \n",
       "18                        Speeding   Speeding             False   \n",
       "19                        Speeding   Speeding             False   \n",
       "\n",
       "     stop_outcome is_arrested stop_duration  drugs_related_stop  \n",
       "0        Citation       False      0-15 Min               False  \n",
       "1        Citation       False      0-15 Min               False  \n",
       "2        Citation       False      0-15 Min               False  \n",
       "3   Arrest Driver        True     16-30 Min               False  \n",
       "4        Citation       False      0-15 Min               False  \n",
       "5        Citation       False      0-15 Min               False  \n",
       "6        Citation       False      0-15 Min               False  \n",
       "7        Citation       False      0-15 Min               False  \n",
       "8        Citation       False      0-15 Min               False  \n",
       "9        Citation       False      0-15 Min               False  \n",
       "10       Citation       False      0-15 Min               False  \n",
       "11       Citation       False      0-15 Min               False  \n",
       "12       Citation       False      0-15 Min               False  \n",
       "13       Citation       False      0-15 Min               False  \n",
       "14       Citation       False      0-15 Min               False  \n",
       "15       Citation       False      0-15 Min               False  \n",
       "16       Citation       False      0-15 Min               False  \n",
       "17       Citation       False      0-15 Min               False  \n",
       "18       Citation       False      0-15 Min               False  \n",
       "19       Citation       False      0-15 Min               False  "
      ]
     },
     "execution_count": 11,
     "metadata": {},
     "output_type": "execute_result"
    }
   ],
   "source": [
    "policedf.head(20)"
   ]
  },
  {
   "cell_type": "markdown",
   "metadata": {},
   "source": [
    "And now we can't see country name and serach type columns"
   ]
  },
  {
   "cell_type": "markdown",
   "metadata": {},
   "source": [
    "And now we will fill other null values, First we will check the rows which have all the values as null"
   ]
  },
  {
   "cell_type": "code",
   "execution_count": 12,
   "metadata": {},
   "outputs": [
    {
     "data": {
      "text/plain": [
       "(65535, 13)"
      ]
     },
     "execution_count": 12,
     "metadata": {},
     "output_type": "execute_result"
    }
   ],
   "source": [
    "policedf.shape"
   ]
  },
  {
   "cell_type": "code",
   "execution_count": 13,
   "metadata": {},
   "outputs": [
    {
     "data": {
      "text/plain": [
       "Int64Index([], dtype='int64')"
      ]
     },
     "execution_count": 13,
     "metadata": {},
     "output_type": "execute_result"
    }
   ],
   "source": [
    "policedf.index[policedf.isnull().all(1)]"
   ]
  },
  {
   "cell_type": "markdown",
   "metadata": {},
   "source": [
    "As there are no such rows with all the columns as Null values so now we will check for each and every column"
   ]
  },
  {
   "cell_type": "code",
   "execution_count": 14,
   "metadata": {},
   "outputs": [
    {
     "data": {
      "text/plain": [
       "stop_date                0\n",
       "stop_time                0\n",
       "driver_gender         4061\n",
       "driver_age_raw        4054\n",
       "driver_age            4307\n",
       "driver_race           4060\n",
       "violation_raw         4060\n",
       "violation             4060\n",
       "search_conducted         0\n",
       "stop_outcome          4060\n",
       "is_arrested           4060\n",
       "stop_duration         4060\n",
       "drugs_related_stop       0\n",
       "dtype: int64"
      ]
     },
     "execution_count": 14,
     "metadata": {},
     "output_type": "execute_result"
    }
   ],
   "source": [
    "policedf.isnull().sum()"
   ]
  },
  {
   "cell_type": "code",
   "execution_count": 15,
   "metadata": {},
   "outputs": [
    {
     "data": {
      "text/plain": [
       "M    45164\n",
       "F    16310\n",
       "Name: driver_gender, dtype: int64"
      ]
     },
     "execution_count": 15,
     "metadata": {},
     "output_type": "execute_result"
    }
   ],
   "source": [
    "policedf['driver_gender'].value_counts()"
   ]
  },
  {
   "cell_type": "markdown",
   "metadata": {},
   "source": [
    "As 4061 people didn't mentioned their gender so we can mark them as 'Not Mentioned'"
   ]
  },
  {
   "cell_type": "code",
   "execution_count": 16,
   "metadata": {},
   "outputs": [],
   "source": [
    "policedf['driver_gender'] = policedf['driver_gender'].fillna('Not Mentioned')"
   ]
  },
  {
   "cell_type": "code",
   "execution_count": 17,
   "metadata": {},
   "outputs": [
    {
     "data": {
      "text/plain": [
       "array([1985., 1965., 1972., 1986., 1984., 1982., 1969., 1970., 1979.,\n",
       "       1966., 1955., 1958., 1953., 1967.,   nan, 1964., 1977., 1959.,\n",
       "       1973., 1947., 1978., 1962., 1981., 1988., 1983., 1961., 1957.,\n",
       "       1971., 1950., 1954., 1960., 1976., 1974., 1968., 1938., 1980.,\n",
       "       1963., 1975., 1987., 1948., 1956., 1944., 1935.,    0., 1952.,\n",
       "       1945., 1946., 1941., 1942., 1951., 1949., 2005., 1939., 1943.,\n",
       "       1936., 1924., 1937., 1929., 1930., 1931., 1923., 1940., 1933.,\n",
       "       1989., 1928., 1932., 1990., 1926., 2006., 1927., 1997., 1934.,\n",
       "       1887., 1925., 1918., 2004., 1991., 2002., 2007., 1992., 8801.,\n",
       "       2001., 2003., 1998., 1922., 1993., 2008., 2009., 2919., 2000.,\n",
       "       1994., 1995., 2011., 1996.])"
      ]
     },
     "execution_count": 17,
     "metadata": {},
     "output_type": "execute_result"
    }
   ],
   "source": [
    "policedf['driver_age_raw'].unique()"
   ]
  },
  {
   "cell_type": "markdown",
   "metadata": {},
   "source": [
    "As 4054 people didn't mentioned their age_raw that is their year of birth\n",
    "we can mark nan values as 0"
   ]
  },
  {
   "cell_type": "code",
   "execution_count": 18,
   "metadata": {},
   "outputs": [],
   "source": [
    "policedf['driver_age_raw'] = policedf['driver_age_raw'].fillna(0)"
   ]
  },
  {
   "cell_type": "code",
   "execution_count": 19,
   "metadata": {},
   "outputs": [
    {
     "data": {
      "text/plain": [
       "array([20., 40., 33., 19., 21., 23., 36., 35., 26., 39., 50., 47., 52.,\n",
       "       38., nan, 41., 28., 46., 32., 58., 27., 43., 24., 17., 22., 44.,\n",
       "       48., 34., 55., 51., 45., 29., 31., 37., 67., 25., 42., 30., 18.,\n",
       "       57., 49., 61., 70., 53., 60., 59., 64., 63., 54., 56., 66., 62.,\n",
       "       69., 81., 68., 76., 75., 74., 82., 65., 72., 16., 77., 73., 71.,\n",
       "       80., 79., 78., 88., 15., 83., 86., 84., 85.])"
      ]
     },
     "execution_count": 19,
     "metadata": {},
     "output_type": "execute_result"
    }
   ],
   "source": [
    "policedf['driver_age'].unique()"
   ]
  },
  {
   "cell_type": "markdown",
   "metadata": {},
   "source": [
    "As 4307 people didn't mentioned their age hence we will mark the na values as mean age"
   ]
  },
  {
   "cell_type": "code",
   "execution_count": 20,
   "metadata": {},
   "outputs": [],
   "source": [
    "mean_age = policedf['driver_age'].mean()\n",
    "policedf['driver_age'] = policedf['driver_age'].fillna(mean_age)"
   ]
  },
  {
   "cell_type": "code",
   "execution_count": 21,
   "metadata": {},
   "outputs": [
    {
     "data": {
      "text/plain": [
       "White       45747\n",
       "Black        8267\n",
       "Hispanic     5611\n",
       "Asian        1639\n",
       "Other         211\n",
       "Name: driver_race, dtype: int64"
      ]
     },
     "execution_count": 21,
     "metadata": {},
     "output_type": "execute_result"
    }
   ],
   "source": [
    "policedf['driver_race'].value_counts()"
   ]
  },
  {
   "cell_type": "markdown",
   "metadata": {},
   "source": [
    "More than 45K rocords are with White then we can say maximum population in our data set is white hence we can mark the rest na values as 'White'"
   ]
  },
  {
   "cell_type": "code",
   "execution_count": 22,
   "metadata": {},
   "outputs": [],
   "source": [
    "policedf['driver_race'] = policedf['driver_race'].fillna('White')"
   ]
  },
  {
   "cell_type": "code",
   "execution_count": 23,
   "metadata": {},
   "outputs": [
    {
     "data": {
      "text/plain": [
       "Speeding                            37204\n",
       "Other Traffic Violation             11926\n",
       "Equipment/Inspection Violation       6516\n",
       "Special Detail/Directed Patrol       2383\n",
       "Registration Violation               2243\n",
       "Call for Service                      793\n",
       "Violation of City/Town Ordinance      170\n",
       "Motorist Assist/Courtesy              138\n",
       "APB                                    51\n",
       "Suspicious Person                      38\n",
       "Warrant                                10\n",
       "Seatbelt Violation                      3\n",
       "Name: violation_raw, dtype: int64"
      ]
     },
     "execution_count": 23,
     "metadata": {},
     "output_type": "execute_result"
    }
   ],
   "source": [
    "policedf['violation_raw'].value_counts()"
   ]
  },
  {
   "cell_type": "code",
   "execution_count": 24,
   "metadata": {},
   "outputs": [
    {
     "data": {
      "text/html": [
       "<div>\n",
       "<style scoped>\n",
       "    .dataframe tbody tr th:only-of-type {\n",
       "        vertical-align: middle;\n",
       "    }\n",
       "\n",
       "    .dataframe tbody tr th {\n",
       "        vertical-align: top;\n",
       "    }\n",
       "\n",
       "    .dataframe thead th {\n",
       "        text-align: right;\n",
       "    }\n",
       "</style>\n",
       "<table border=\"1\" class=\"dataframe\">\n",
       "  <thead>\n",
       "    <tr style=\"text-align: right;\">\n",
       "      <th></th>\n",
       "      <th>stop_date</th>\n",
       "      <th>stop_time</th>\n",
       "      <th>driver_gender</th>\n",
       "      <th>driver_age_raw</th>\n",
       "      <th>driver_age</th>\n",
       "      <th>driver_race</th>\n",
       "      <th>violation_raw</th>\n",
       "      <th>violation</th>\n",
       "      <th>search_conducted</th>\n",
       "      <th>stop_outcome</th>\n",
       "      <th>is_arrested</th>\n",
       "      <th>stop_duration</th>\n",
       "      <th>drugs_related_stop</th>\n",
       "    </tr>\n",
       "  </thead>\n",
       "  <tbody>\n",
       "    <tr>\n",
       "      <th>25</th>\n",
       "      <td>9/3/2005</td>\n",
       "      <td>16:02</td>\n",
       "      <td>Not Mentioned</td>\n",
       "      <td>0.0</td>\n",
       "      <td>34.148984</td>\n",
       "      <td>White</td>\n",
       "      <td>NaN</td>\n",
       "      <td>NaN</td>\n",
       "      <td>False</td>\n",
       "      <td>NaN</td>\n",
       "      <td>NaN</td>\n",
       "      <td>NaN</td>\n",
       "      <td>False</td>\n",
       "    </tr>\n",
       "    <tr>\n",
       "      <th>29</th>\n",
       "      <td>9/26/2005</td>\n",
       "      <td>1:05</td>\n",
       "      <td>Not Mentioned</td>\n",
       "      <td>0.0</td>\n",
       "      <td>34.148984</td>\n",
       "      <td>White</td>\n",
       "      <td>NaN</td>\n",
       "      <td>NaN</td>\n",
       "      <td>False</td>\n",
       "      <td>NaN</td>\n",
       "      <td>NaN</td>\n",
       "      <td>NaN</td>\n",
       "      <td>False</td>\n",
       "    </tr>\n",
       "    <tr>\n",
       "      <th>52</th>\n",
       "      <td>10/1/2005</td>\n",
       "      <td>13:09</td>\n",
       "      <td>Not Mentioned</td>\n",
       "      <td>0.0</td>\n",
       "      <td>34.148984</td>\n",
       "      <td>White</td>\n",
       "      <td>NaN</td>\n",
       "      <td>NaN</td>\n",
       "      <td>False</td>\n",
       "      <td>NaN</td>\n",
       "      <td>NaN</td>\n",
       "      <td>NaN</td>\n",
       "      <td>False</td>\n",
       "    </tr>\n",
       "    <tr>\n",
       "      <th>110</th>\n",
       "      <td>10/3/2005</td>\n",
       "      <td>19:50</td>\n",
       "      <td>Not Mentioned</td>\n",
       "      <td>0.0</td>\n",
       "      <td>34.148984</td>\n",
       "      <td>White</td>\n",
       "      <td>NaN</td>\n",
       "      <td>NaN</td>\n",
       "      <td>False</td>\n",
       "      <td>NaN</td>\n",
       "      <td>NaN</td>\n",
       "      <td>NaN</td>\n",
       "      <td>False</td>\n",
       "    </tr>\n",
       "    <tr>\n",
       "      <th>124</th>\n",
       "      <td>10/4/2005</td>\n",
       "      <td>11:43</td>\n",
       "      <td>Not Mentioned</td>\n",
       "      <td>0.0</td>\n",
       "      <td>34.148984</td>\n",
       "      <td>White</td>\n",
       "      <td>NaN</td>\n",
       "      <td>NaN</td>\n",
       "      <td>False</td>\n",
       "      <td>NaN</td>\n",
       "      <td>NaN</td>\n",
       "      <td>NaN</td>\n",
       "      <td>False</td>\n",
       "    </tr>\n",
       "    <tr>\n",
       "      <th>150</th>\n",
       "      <td>10/5/2005</td>\n",
       "      <td>10:08</td>\n",
       "      <td>Not Mentioned</td>\n",
       "      <td>0.0</td>\n",
       "      <td>34.148984</td>\n",
       "      <td>White</td>\n",
       "      <td>NaN</td>\n",
       "      <td>NaN</td>\n",
       "      <td>False</td>\n",
       "      <td>NaN</td>\n",
       "      <td>NaN</td>\n",
       "      <td>NaN</td>\n",
       "      <td>False</td>\n",
       "    </tr>\n",
       "    <tr>\n",
       "      <th>205</th>\n",
       "      <td>10/7/2005</td>\n",
       "      <td>9:09</td>\n",
       "      <td>Not Mentioned</td>\n",
       "      <td>0.0</td>\n",
       "      <td>34.148984</td>\n",
       "      <td>White</td>\n",
       "      <td>NaN</td>\n",
       "      <td>NaN</td>\n",
       "      <td>False</td>\n",
       "      <td>NaN</td>\n",
       "      <td>NaN</td>\n",
       "      <td>NaN</td>\n",
       "      <td>False</td>\n",
       "    </tr>\n",
       "    <tr>\n",
       "      <th>226</th>\n",
       "      <td>10/8/2005</td>\n",
       "      <td>3:13</td>\n",
       "      <td>Not Mentioned</td>\n",
       "      <td>1968.0</td>\n",
       "      <td>37.000000</td>\n",
       "      <td>White</td>\n",
       "      <td>NaN</td>\n",
       "      <td>NaN</td>\n",
       "      <td>False</td>\n",
       "      <td>NaN</td>\n",
       "      <td>NaN</td>\n",
       "      <td>NaN</td>\n",
       "      <td>False</td>\n",
       "    </tr>\n",
       "    <tr>\n",
       "      <th>314</th>\n",
       "      <td>10/11/2005</td>\n",
       "      <td>10:30</td>\n",
       "      <td>Not Mentioned</td>\n",
       "      <td>0.0</td>\n",
       "      <td>34.148984</td>\n",
       "      <td>White</td>\n",
       "      <td>NaN</td>\n",
       "      <td>NaN</td>\n",
       "      <td>False</td>\n",
       "      <td>NaN</td>\n",
       "      <td>NaN</td>\n",
       "      <td>NaN</td>\n",
       "      <td>False</td>\n",
       "    </tr>\n",
       "    <tr>\n",
       "      <th>318</th>\n",
       "      <td>10/11/2005</td>\n",
       "      <td>15:20</td>\n",
       "      <td>Not Mentioned</td>\n",
       "      <td>0.0</td>\n",
       "      <td>34.148984</td>\n",
       "      <td>White</td>\n",
       "      <td>NaN</td>\n",
       "      <td>NaN</td>\n",
       "      <td>False</td>\n",
       "      <td>NaN</td>\n",
       "      <td>NaN</td>\n",
       "      <td>NaN</td>\n",
       "      <td>False</td>\n",
       "    </tr>\n",
       "  </tbody>\n",
       "</table>\n",
       "</div>"
      ],
      "text/plain": [
       "      stop_date stop_time  driver_gender  driver_age_raw  driver_age  \\\n",
       "25     9/3/2005     16:02  Not Mentioned             0.0   34.148984   \n",
       "29    9/26/2005      1:05  Not Mentioned             0.0   34.148984   \n",
       "52    10/1/2005     13:09  Not Mentioned             0.0   34.148984   \n",
       "110   10/3/2005     19:50  Not Mentioned             0.0   34.148984   \n",
       "124   10/4/2005     11:43  Not Mentioned             0.0   34.148984   \n",
       "150   10/5/2005     10:08  Not Mentioned             0.0   34.148984   \n",
       "205   10/7/2005      9:09  Not Mentioned             0.0   34.148984   \n",
       "226   10/8/2005      3:13  Not Mentioned          1968.0   37.000000   \n",
       "314  10/11/2005     10:30  Not Mentioned             0.0   34.148984   \n",
       "318  10/11/2005     15:20  Not Mentioned             0.0   34.148984   \n",
       "\n",
       "    driver_race violation_raw violation  search_conducted stop_outcome  \\\n",
       "25        White           NaN       NaN             False          NaN   \n",
       "29        White           NaN       NaN             False          NaN   \n",
       "52        White           NaN       NaN             False          NaN   \n",
       "110       White           NaN       NaN             False          NaN   \n",
       "124       White           NaN       NaN             False          NaN   \n",
       "150       White           NaN       NaN             False          NaN   \n",
       "205       White           NaN       NaN             False          NaN   \n",
       "226       White           NaN       NaN             False          NaN   \n",
       "314       White           NaN       NaN             False          NaN   \n",
       "318       White           NaN       NaN             False          NaN   \n",
       "\n",
       "    is_arrested stop_duration  drugs_related_stop  \n",
       "25          NaN           NaN               False  \n",
       "29          NaN           NaN               False  \n",
       "52          NaN           NaN               False  \n",
       "110         NaN           NaN               False  \n",
       "124         NaN           NaN               False  \n",
       "150         NaN           NaN               False  \n",
       "205         NaN           NaN               False  \n",
       "226         NaN           NaN               False  \n",
       "314         NaN           NaN               False  \n",
       "318         NaN           NaN               False  "
      ]
     },
     "execution_count": 24,
     "metadata": {},
     "output_type": "execute_result"
    }
   ],
   "source": [
    "policedf[policedf['violation_raw'].isnull()].head(10)"
   ]
  },
  {
   "cell_type": "markdown",
   "metadata": {},
   "source": [
    "As per our records maximum drivers are with Null values does have other columns as Null too so we can mark this column as not mentioned"
   ]
  },
  {
   "cell_type": "code",
   "execution_count": 25,
   "metadata": {},
   "outputs": [],
   "source": [
    "policedf['violation_raw'] = policedf['violation_raw'].fillna('Not Mentioned')"
   ]
  },
  {
   "cell_type": "code",
   "execution_count": 26,
   "metadata": {},
   "outputs": [
    {
     "data": {
      "text/plain": [
       "Speeding               37204\n",
       "Moving violation       11926\n",
       "Equipment               6516\n",
       "Other                   3583\n",
       "Registration/plates     2243\n",
       "Seat belt                  3\n",
       "Name: violation, dtype: int64"
      ]
     },
     "execution_count": 26,
     "metadata": {},
     "output_type": "execute_result"
    }
   ],
   "source": [
    "policedf['violation'].value_counts()"
   ]
  },
  {
   "cell_type": "markdown",
   "metadata": {},
   "source": [
    "Similar like Violation_raw column we can mention 'Not Mentioned' for this column too"
   ]
  },
  {
   "cell_type": "code",
   "execution_count": 27,
   "metadata": {},
   "outputs": [],
   "source": [
    "policedf['violation'] = policedf['violation'].fillna('Not Mentioned')"
   ]
  },
  {
   "cell_type": "code",
   "execution_count": 28,
   "metadata": {},
   "outputs": [
    {
     "data": {
      "text/plain": [
       "Citation            56564\n",
       "Arrest Driver        2009\n",
       "Warning              1889\n",
       "N/D                   423\n",
       "No Action             339\n",
       "Arrest Passenger      251\n",
       "Name: stop_outcome, dtype: int64"
      ]
     },
     "execution_count": 28,
     "metadata": {},
     "output_type": "execute_result"
    }
   ],
   "source": [
    "policedf['stop_outcome'].value_counts()"
   ]
  },
  {
   "cell_type": "markdown",
   "metadata": {},
   "source": [
    "As like above columns 4060 rows are there without anything mentioned\n",
    "so we can mark this column as not mentioned"
   ]
  },
  {
   "cell_type": "code",
   "execution_count": 29,
   "metadata": {},
   "outputs": [],
   "source": [
    "policedf['stop_outcome'] = policedf['stop_outcome'].fillna('Not Mentioned')"
   ]
  },
  {
   "cell_type": "code",
   "execution_count": 30,
   "metadata": {},
   "outputs": [
    {
     "data": {
      "text/plain": [
       "False    59215\n",
       "True      2260\n",
       "Name: is_arrested, dtype: int64"
      ]
     },
     "execution_count": 30,
     "metadata": {},
     "output_type": "execute_result"
    }
   ],
   "source": [
    "policedf['is_arrested'].value_counts()"
   ]
  },
  {
   "cell_type": "markdown",
   "metadata": {},
   "source": [
    "Like above columns as most of the details are not there for driver hence we can mark na values as 'Not Mentioned'"
   ]
  },
  {
   "cell_type": "code",
   "execution_count": 31,
   "metadata": {},
   "outputs": [],
   "source": [
    "policedf['is_arrested'] = policedf['is_arrested'].fillna('Not Mentioned')"
   ]
  },
  {
   "cell_type": "code",
   "execution_count": 32,
   "metadata": {},
   "outputs": [
    {
     "data": {
      "text/plain": [
       "0-15 Min     47379\n",
       "16-30 Min    11448\n",
       "30+ Min       2647\n",
       "2                1\n",
       "Name: stop_duration, dtype: int64"
      ]
     },
     "execution_count": 32,
     "metadata": {},
     "output_type": "execute_result"
    }
   ],
   "source": [
    "policedf['stop_duration'].value_counts()"
   ]
  },
  {
   "cell_type": "markdown",
   "metadata": {},
   "source": [
    "Like above columns as most of the details are not there for driver hence we can mark na values as 'Not Mentioned'"
   ]
  },
  {
   "cell_type": "code",
   "execution_count": 33,
   "metadata": {},
   "outputs": [
    {
     "data": {
      "text/html": [
       "<div>\n",
       "<style scoped>\n",
       "    .dataframe tbody tr th:only-of-type {\n",
       "        vertical-align: middle;\n",
       "    }\n",
       "\n",
       "    .dataframe tbody tr th {\n",
       "        vertical-align: top;\n",
       "    }\n",
       "\n",
       "    .dataframe thead th {\n",
       "        text-align: right;\n",
       "    }\n",
       "</style>\n",
       "<table border=\"1\" class=\"dataframe\">\n",
       "  <thead>\n",
       "    <tr style=\"text-align: right;\">\n",
       "      <th></th>\n",
       "      <th>stop_date</th>\n",
       "      <th>stop_time</th>\n",
       "      <th>driver_gender</th>\n",
       "      <th>driver_age_raw</th>\n",
       "      <th>driver_age</th>\n",
       "      <th>driver_race</th>\n",
       "      <th>violation_raw</th>\n",
       "      <th>violation</th>\n",
       "      <th>search_conducted</th>\n",
       "      <th>stop_outcome</th>\n",
       "      <th>is_arrested</th>\n",
       "      <th>stop_duration</th>\n",
       "      <th>drugs_related_stop</th>\n",
       "    </tr>\n",
       "  </thead>\n",
       "  <tbody>\n",
       "    <tr>\n",
       "      <th>55873</th>\n",
       "      <td>1/23/2012</td>\n",
       "      <td>11:17</td>\n",
       "      <td>M</td>\n",
       "      <td>1960.0</td>\n",
       "      <td>52.0</td>\n",
       "      <td>Black</td>\n",
       "      <td>Other Traffic Violation</td>\n",
       "      <td>Moving violation</td>\n",
       "      <td>False</td>\n",
       "      <td>Arrest Passenger</td>\n",
       "      <td>True</td>\n",
       "      <td>2</td>\n",
       "      <td>False</td>\n",
       "    </tr>\n",
       "  </tbody>\n",
       "</table>\n",
       "</div>"
      ],
      "text/plain": [
       "       stop_date stop_time driver_gender  driver_age_raw  driver_age  \\\n",
       "55873  1/23/2012     11:17             M          1960.0        52.0   \n",
       "\n",
       "      driver_race            violation_raw         violation  \\\n",
       "55873       Black  Other Traffic Violation  Moving violation   \n",
       "\n",
       "       search_conducted      stop_outcome is_arrested stop_duration  \\\n",
       "55873             False  Arrest Passenger        True             2   \n",
       "\n",
       "       drugs_related_stop  \n",
       "55873               False  "
      ]
     },
     "execution_count": 33,
     "metadata": {},
     "output_type": "execute_result"
    }
   ],
   "source": [
    "policedf[policedf['stop_duration'] == '2']"
   ]
  },
  {
   "cell_type": "code",
   "execution_count": 34,
   "metadata": {},
   "outputs": [
    {
     "data": {
      "text/plain": [
       "pandas.core.indexes.numeric.Int64Index"
      ]
     },
     "execution_count": 34,
     "metadata": {},
     "output_type": "execute_result"
    }
   ],
   "source": [
    "idx = policedf.index[policedf['stop_duration'] == '2']\n",
    "type(idx)"
   ]
  },
  {
   "cell_type": "code",
   "execution_count": 35,
   "metadata": {},
   "outputs": [],
   "source": [
    "policedf.at[idx, 'stop_duration'] = '2 Min'"
   ]
  },
  {
   "cell_type": "code",
   "execution_count": 36,
   "metadata": {},
   "outputs": [
    {
     "data": {
      "text/html": [
       "<div>\n",
       "<style scoped>\n",
       "    .dataframe tbody tr th:only-of-type {\n",
       "        vertical-align: middle;\n",
       "    }\n",
       "\n",
       "    .dataframe tbody tr th {\n",
       "        vertical-align: top;\n",
       "    }\n",
       "\n",
       "    .dataframe thead th {\n",
       "        text-align: right;\n",
       "    }\n",
       "</style>\n",
       "<table border=\"1\" class=\"dataframe\">\n",
       "  <thead>\n",
       "    <tr style=\"text-align: right;\">\n",
       "      <th></th>\n",
       "      <th>stop_date</th>\n",
       "      <th>stop_time</th>\n",
       "      <th>driver_gender</th>\n",
       "      <th>driver_age_raw</th>\n",
       "      <th>driver_age</th>\n",
       "      <th>driver_race</th>\n",
       "      <th>violation_raw</th>\n",
       "      <th>violation</th>\n",
       "      <th>search_conducted</th>\n",
       "      <th>stop_outcome</th>\n",
       "      <th>is_arrested</th>\n",
       "      <th>stop_duration</th>\n",
       "      <th>drugs_related_stop</th>\n",
       "    </tr>\n",
       "  </thead>\n",
       "  <tbody>\n",
       "    <tr>\n",
       "      <th>55873</th>\n",
       "      <td>1/23/2012</td>\n",
       "      <td>11:17</td>\n",
       "      <td>M</td>\n",
       "      <td>1960.0</td>\n",
       "      <td>52.0</td>\n",
       "      <td>Black</td>\n",
       "      <td>Other Traffic Violation</td>\n",
       "      <td>Moving violation</td>\n",
       "      <td>False</td>\n",
       "      <td>Arrest Passenger</td>\n",
       "      <td>True</td>\n",
       "      <td>2 Min</td>\n",
       "      <td>False</td>\n",
       "    </tr>\n",
       "  </tbody>\n",
       "</table>\n",
       "</div>"
      ],
      "text/plain": [
       "       stop_date stop_time driver_gender  driver_age_raw  driver_age  \\\n",
       "55873  1/23/2012     11:17             M          1960.0        52.0   \n",
       "\n",
       "      driver_race            violation_raw         violation  \\\n",
       "55873       Black  Other Traffic Violation  Moving violation   \n",
       "\n",
       "       search_conducted      stop_outcome is_arrested stop_duration  \\\n",
       "55873             False  Arrest Passenger        True         2 Min   \n",
       "\n",
       "       drugs_related_stop  \n",
       "55873               False  "
      ]
     },
     "execution_count": 36,
     "metadata": {},
     "output_type": "execute_result"
    }
   ],
   "source": [
    "policedf[policedf['stop_duration'] == '2 Min']"
   ]
  },
  {
   "cell_type": "markdown",
   "metadata": {},
   "source": [
    " We have changed the value '2' to '2 Min' for the stop duration column"
   ]
  },
  {
   "cell_type": "code",
   "execution_count": 37,
   "metadata": {},
   "outputs": [
    {
     "data": {
      "text/plain": [
       "0-15 Min     47379\n",
       "16-30 Min    11448\n",
       "30+ Min       2647\n",
       "2 Min            1\n",
       "Name: stop_duration, dtype: int64"
      ]
     },
     "execution_count": 37,
     "metadata": {},
     "output_type": "execute_result"
    }
   ],
   "source": [
    "policedf['stop_duration'].value_counts()"
   ]
  },
  {
   "cell_type": "code",
   "execution_count": 38,
   "metadata": {},
   "outputs": [],
   "source": [
    "policedf['stop_duration'] = policedf['stop_duration'].fillna('Not Mentioned')"
   ]
  },
  {
   "cell_type": "markdown",
   "metadata": {},
   "source": [
    "We have fillned all na values now no null values will be there in Data frame"
   ]
  },
  {
   "cell_type": "code",
   "execution_count": 39,
   "metadata": {},
   "outputs": [
    {
     "data": {
      "text/plain": [
       "stop_date             0\n",
       "stop_time             0\n",
       "driver_gender         0\n",
       "driver_age_raw        0\n",
       "driver_age            0\n",
       "driver_race           0\n",
       "violation_raw         0\n",
       "violation             0\n",
       "search_conducted      0\n",
       "stop_outcome          0\n",
       "is_arrested           0\n",
       "stop_duration         0\n",
       "drugs_related_stop    0\n",
       "dtype: int64"
      ]
     },
     "execution_count": 39,
     "metadata": {},
     "output_type": "execute_result"
    }
   ],
   "source": [
    "policedf.isnull().sum()"
   ]
  },
  {
   "cell_type": "markdown",
   "metadata": {},
   "source": [
    "Counting the genders which were violating the speed limit"
   ]
  },
  {
   "cell_type": "code",
   "execution_count": 40,
   "metadata": {},
   "outputs": [
    {
     "data": {
      "text/plain": [
       "M                25517\n",
       "F                11686\n",
       "Not Mentioned        1\n",
       "Name: driver_gender, dtype: int64"
      ]
     },
     "execution_count": 40,
     "metadata": {},
     "output_type": "execute_result"
    }
   ],
   "source": [
    "policedf[policedf.violation == 'Speeding'].driver_gender.value_counts()"
   ]
  },
  {
   "cell_type": "markdown",
   "metadata": {},
   "source": [
    "Counting how many time search was conducted on differenr gender"
   ]
  },
  {
   "cell_type": "code",
   "execution_count": 41,
   "metadata": {},
   "outputs": [
    {
     "data": {
      "text/plain": [
       "driver_gender\n",
       "F                 366.0\n",
       "M                2113.0\n",
       "Not Mentioned       0.0\n",
       "Name: search_conducted, dtype: float64"
      ]
     },
     "execution_count": 41,
     "metadata": {},
     "output_type": "execute_result"
    }
   ],
   "source": [
    "policedf.groupby('driver_gender').search_conducted.sum()"
   ]
  },
  {
   "cell_type": "markdown",
   "metadata": {},
   "source": [
    "Getting age discription as per each violation"
   ]
  },
  {
   "cell_type": "code",
   "execution_count": 42,
   "metadata": {},
   "outputs": [
    {
     "data": {
      "text/html": [
       "<div>\n",
       "<style scoped>\n",
       "    .dataframe tbody tr th:only-of-type {\n",
       "        vertical-align: middle;\n",
       "    }\n",
       "\n",
       "    .dataframe tbody tr th {\n",
       "        vertical-align: top;\n",
       "    }\n",
       "\n",
       "    .dataframe thead th {\n",
       "        text-align: right;\n",
       "    }\n",
       "</style>\n",
       "<table border=\"1\" class=\"dataframe\">\n",
       "  <thead>\n",
       "    <tr style=\"text-align: right;\">\n",
       "      <th></th>\n",
       "      <th>count</th>\n",
       "      <th>mean</th>\n",
       "      <th>std</th>\n",
       "      <th>min</th>\n",
       "      <th>25%</th>\n",
       "      <th>50%</th>\n",
       "      <th>75%</th>\n",
       "      <th>max</th>\n",
       "    </tr>\n",
       "    <tr>\n",
       "      <th>violation</th>\n",
       "      <th></th>\n",
       "      <th></th>\n",
       "      <th></th>\n",
       "      <th></th>\n",
       "      <th></th>\n",
       "      <th></th>\n",
       "      <th></th>\n",
       "      <th></th>\n",
       "    </tr>\n",
       "  </thead>\n",
       "  <tbody>\n",
       "    <tr>\n",
       "      <th>Equipment</th>\n",
       "      <td>6516.0</td>\n",
       "      <td>31.686363</td>\n",
       "      <td>11.373176</td>\n",
       "      <td>16.0</td>\n",
       "      <td>23.000000</td>\n",
       "      <td>28.000000</td>\n",
       "      <td>39.000000</td>\n",
       "      <td>81.0</td>\n",
       "    </tr>\n",
       "    <tr>\n",
       "      <th>Moving violation</th>\n",
       "      <td>11926.0</td>\n",
       "      <td>36.725595</td>\n",
       "      <td>13.231582</td>\n",
       "      <td>15.0</td>\n",
       "      <td>25.000000</td>\n",
       "      <td>35.000000</td>\n",
       "      <td>46.000000</td>\n",
       "      <td>86.0</td>\n",
       "    </tr>\n",
       "    <tr>\n",
       "      <th>Not Mentioned</th>\n",
       "      <td>4060.0</td>\n",
       "      <td>34.141904</td>\n",
       "      <td>0.348951</td>\n",
       "      <td>18.0</td>\n",
       "      <td>34.148984</td>\n",
       "      <td>34.148984</td>\n",
       "      <td>34.148984</td>\n",
       "      <td>38.0</td>\n",
       "    </tr>\n",
       "    <tr>\n",
       "      <th>Other</th>\n",
       "      <td>3583.0</td>\n",
       "      <td>40.178563</td>\n",
       "      <td>12.608331</td>\n",
       "      <td>16.0</td>\n",
       "      <td>30.000000</td>\n",
       "      <td>40.000000</td>\n",
       "      <td>49.500000</td>\n",
       "      <td>86.0</td>\n",
       "    </tr>\n",
       "    <tr>\n",
       "      <th>Registration/plates</th>\n",
       "      <td>2243.0</td>\n",
       "      <td>32.658692</td>\n",
       "      <td>11.143450</td>\n",
       "      <td>16.0</td>\n",
       "      <td>24.000000</td>\n",
       "      <td>30.000000</td>\n",
       "      <td>40.000000</td>\n",
       "      <td>74.0</td>\n",
       "    </tr>\n",
       "    <tr>\n",
       "      <th>Seat belt</th>\n",
       "      <td>3.0</td>\n",
       "      <td>30.333333</td>\n",
       "      <td>10.214369</td>\n",
       "      <td>23.0</td>\n",
       "      <td>24.500000</td>\n",
       "      <td>26.000000</td>\n",
       "      <td>34.000000</td>\n",
       "      <td>42.0</td>\n",
       "    </tr>\n",
       "    <tr>\n",
       "      <th>Speeding</th>\n",
       "      <td>37204.0</td>\n",
       "      <td>33.264582</td>\n",
       "      <td>12.601601</td>\n",
       "      <td>15.0</td>\n",
       "      <td>23.000000</td>\n",
       "      <td>30.000000</td>\n",
       "      <td>42.000000</td>\n",
       "      <td>88.0</td>\n",
       "    </tr>\n",
       "  </tbody>\n",
       "</table>\n",
       "</div>"
      ],
      "text/plain": [
       "                       count       mean        std   min        25%  \\\n",
       "violation                                                             \n",
       "Equipment             6516.0  31.686363  11.373176  16.0  23.000000   \n",
       "Moving violation     11926.0  36.725595  13.231582  15.0  25.000000   \n",
       "Not Mentioned         4060.0  34.141904   0.348951  18.0  34.148984   \n",
       "Other                 3583.0  40.178563  12.608331  16.0  30.000000   \n",
       "Registration/plates   2243.0  32.658692  11.143450  16.0  24.000000   \n",
       "Seat belt                3.0  30.333333  10.214369  23.0  24.500000   \n",
       "Speeding             37204.0  33.264582  12.601601  15.0  23.000000   \n",
       "\n",
       "                           50%        75%   max  \n",
       "violation                                        \n",
       "Equipment            28.000000  39.000000  81.0  \n",
       "Moving violation     35.000000  46.000000  86.0  \n",
       "Not Mentioned        34.148984  34.148984  38.0  \n",
       "Other                40.000000  49.500000  86.0  \n",
       "Registration/plates  30.000000  40.000000  74.0  \n",
       "Seat belt            26.000000  34.000000  42.0  \n",
       "Speeding             30.000000  42.000000  88.0  "
      ]
     },
     "execution_count": 42,
     "metadata": {},
     "output_type": "execute_result"
    }
   ],
   "source": [
    "policedf.groupby('violation').driver_age.describe()"
   ]
  },
  {
   "cell_type": "code",
   "execution_count": null,
   "metadata": {},
   "outputs": [],
   "source": []
  }
 ],
 "metadata": {
  "kernelspec": {
   "display_name": "Python 3",
   "language": "python",
   "name": "python3"
  },
  "language_info": {
   "codemirror_mode": {
    "name": "ipython",
    "version": 3
   },
   "file_extension": ".py",
   "mimetype": "text/x-python",
   "name": "python",
   "nbconvert_exporter": "python",
   "pygments_lexer": "ipython3",
   "version": "3.7.3"
  }
 },
 "nbformat": 4,
 "nbformat_minor": 2
}
